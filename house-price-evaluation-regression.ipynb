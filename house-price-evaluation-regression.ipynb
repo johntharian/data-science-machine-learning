{
 "cells": [
  {
   "cell_type": "markdown",
   "execution_count": null,
   "metadata": {
    "papermill": {
     "duration": 0.018234,
     "end_time": "2020-09-05T09:37:04.013982",
     "exception": false,
     "start_time": "2020-09-05T09:37:03.995748",
     "status": "completed"
    },
    "tags": []
   },
   "source": [
    "# Importing the libraries"
   ]
  },
  {
   "cell_type": "code",
   "execution_count": 1,
   "metadata": {
    "_cell_guid": "b1076dfc-b9ad-4769-8c92-a6c4dae69d19",
    "_uuid": "8f2839f25d086af736a60e9eeb907d3b93b6e0e5",
    "execution": {
     "iopub.execute_input": "2020-09-05T09:37:04.051892Z",
     "iopub.status.busy": "2020-09-05T09:37:04.050989Z",
     "iopub.status.idle": "2020-09-05T09:37:06.594616Z",
     "shell.execute_reply": "2020-09-05T09:37:06.593724Z"
    },
    "papermill": {
     "duration": 2.565585,
     "end_time": "2020-09-05T09:37:06.594750",
     "exception": false,
     "start_time": "2020-09-05T09:37:04.029165",
     "status": "completed"
    },
    "tags": []
   },
   "outputs": [],
   "source": [
    "import pandas as pd\n",
    "import numpy as np\n",
    "import matplotlib.pyplot as plt\n",
    "import seaborn as sns\n",
    "from sklearn.metrics import mean_absolute_error,accuracy_score,mean_squared_error\n",
    "from sklearn.ensemble import RandomForestRegressor\n",
    "from sklearn.model_selection import train_test_split\n",
    "from sklearn.preprocessing import LabelEncoder\n",
    "from xgboost import XGBRegressor"
   ]
  },
  {
   "cell_type": "markdown",
   "execution_count": null,
   "metadata": {
    "papermill": {
     "duration": 0.015426,
     "end_time": "2020-09-05T09:37:06.626685",
     "exception": false,
     "start_time": "2020-09-05T09:37:06.611259",
     "status": "completed"
    },
    "tags": []
   },
   "source": [
    "# Reading the data"
   ]
  },
  {
   "cell_type": "code",
   "execution_count": 2,
   "metadata": {
    "_cell_guid": "79c7e3d0-c299-4dcb-8224-4455121ee9b0",
    "_uuid": "d629ff2d2480ee46fbb7e2d37f6b5fab8052498a",
    "execution": {
     "iopub.execute_input": "2020-09-05T09:37:06.669590Z",
     "iopub.status.busy": "2020-09-05T09:37:06.668759Z",
     "iopub.status.idle": "2020-09-05T09:37:06.792059Z",
     "shell.execute_reply": "2020-09-05T09:37:06.792886Z"
    },
    "papermill": {
     "duration": 0.150532,
     "end_time": "2020-09-05T09:37:06.793047",
     "exception": false,
     "start_time": "2020-09-05T09:37:06.642515",
     "status": "completed"
    },
    "tags": []
   },
   "outputs": [],
   "source": [
    "train=pd.read_csv('../input/home-data-for-ml-course/train.csv')\n",
    "test=pd.read_csv('../input/home-data-for-ml-course/test.csv')"
   ]
  },
  {
   "cell_type": "code",
   "execution_count": 3,
   "metadata": {
    "execution": {
     "iopub.execute_input": "2020-09-05T09:37:06.858744Z",
     "iopub.status.busy": "2020-09-05T09:37:06.834689Z",
     "iopub.status.idle": "2020-09-05T09:37:06.880725Z",
     "shell.execute_reply": "2020-09-05T09:37:06.881556Z"
    },
    "papermill": {
     "duration": 0.072151,
     "end_time": "2020-09-05T09:37:06.881754",
     "exception": false,
     "start_time": "2020-09-05T09:37:06.809603",
     "status": "completed"
    },
    "tags": []
   },
   "outputs": [
    {
     "data": {
      "text/html": [
       "<div>\n",
       "<style scoped>\n",
       "    .dataframe tbody tr th:only-of-type {\n",
       "        vertical-align: middle;\n",
       "    }\n",
       "\n",
       "    .dataframe tbody tr th {\n",
       "        vertical-align: top;\n",
       "    }\n",
       "\n",
       "    .dataframe thead th {\n",
       "        text-align: right;\n",
       "    }\n",
       "</style>\n",
       "<table border=\"1\" class=\"dataframe\">\n",
       "  <thead>\n",
       "    <tr style=\"text-align: right;\">\n",
       "      <th></th>\n",
       "      <th>Id</th>\n",
       "      <th>MSSubClass</th>\n",
       "      <th>MSZoning</th>\n",
       "      <th>LotFrontage</th>\n",
       "      <th>LotArea</th>\n",
       "      <th>Street</th>\n",
       "      <th>Alley</th>\n",
       "      <th>LotShape</th>\n",
       "      <th>LandContour</th>\n",
       "      <th>Utilities</th>\n",
       "      <th>...</th>\n",
       "      <th>PoolArea</th>\n",
       "      <th>PoolQC</th>\n",
       "      <th>Fence</th>\n",
       "      <th>MiscFeature</th>\n",
       "      <th>MiscVal</th>\n",
       "      <th>MoSold</th>\n",
       "      <th>YrSold</th>\n",
       "      <th>SaleType</th>\n",
       "      <th>SaleCondition</th>\n",
       "      <th>SalePrice</th>\n",
       "    </tr>\n",
       "  </thead>\n",
       "  <tbody>\n",
       "    <tr>\n",
       "      <th>0</th>\n",
       "      <td>1</td>\n",
       "      <td>60</td>\n",
       "      <td>RL</td>\n",
       "      <td>65.0</td>\n",
       "      <td>8450</td>\n",
       "      <td>Pave</td>\n",
       "      <td>NaN</td>\n",
       "      <td>Reg</td>\n",
       "      <td>Lvl</td>\n",
       "      <td>AllPub</td>\n",
       "      <td>...</td>\n",
       "      <td>0</td>\n",
       "      <td>NaN</td>\n",
       "      <td>NaN</td>\n",
       "      <td>NaN</td>\n",
       "      <td>0</td>\n",
       "      <td>2</td>\n",
       "      <td>2008</td>\n",
       "      <td>WD</td>\n",
       "      <td>Normal</td>\n",
       "      <td>208500</td>\n",
       "    </tr>\n",
       "    <tr>\n",
       "      <th>1</th>\n",
       "      <td>2</td>\n",
       "      <td>20</td>\n",
       "      <td>RL</td>\n",
       "      <td>80.0</td>\n",
       "      <td>9600</td>\n",
       "      <td>Pave</td>\n",
       "      <td>NaN</td>\n",
       "      <td>Reg</td>\n",
       "      <td>Lvl</td>\n",
       "      <td>AllPub</td>\n",
       "      <td>...</td>\n",
       "      <td>0</td>\n",
       "      <td>NaN</td>\n",
       "      <td>NaN</td>\n",
       "      <td>NaN</td>\n",
       "      <td>0</td>\n",
       "      <td>5</td>\n",
       "      <td>2007</td>\n",
       "      <td>WD</td>\n",
       "      <td>Normal</td>\n",
       "      <td>181500</td>\n",
       "    </tr>\n",
       "    <tr>\n",
       "      <th>2</th>\n",
       "      <td>3</td>\n",
       "      <td>60</td>\n",
       "      <td>RL</td>\n",
       "      <td>68.0</td>\n",
       "      <td>11250</td>\n",
       "      <td>Pave</td>\n",
       "      <td>NaN</td>\n",
       "      <td>IR1</td>\n",
       "      <td>Lvl</td>\n",
       "      <td>AllPub</td>\n",
       "      <td>...</td>\n",
       "      <td>0</td>\n",
       "      <td>NaN</td>\n",
       "      <td>NaN</td>\n",
       "      <td>NaN</td>\n",
       "      <td>0</td>\n",
       "      <td>9</td>\n",
       "      <td>2008</td>\n",
       "      <td>WD</td>\n",
       "      <td>Normal</td>\n",
       "      <td>223500</td>\n",
       "    </tr>\n",
       "    <tr>\n",
       "      <th>3</th>\n",
       "      <td>4</td>\n",
       "      <td>70</td>\n",
       "      <td>RL</td>\n",
       "      <td>60.0</td>\n",
       "      <td>9550</td>\n",
       "      <td>Pave</td>\n",
       "      <td>NaN</td>\n",
       "      <td>IR1</td>\n",
       "      <td>Lvl</td>\n",
       "      <td>AllPub</td>\n",
       "      <td>...</td>\n",
       "      <td>0</td>\n",
       "      <td>NaN</td>\n",
       "      <td>NaN</td>\n",
       "      <td>NaN</td>\n",
       "      <td>0</td>\n",
       "      <td>2</td>\n",
       "      <td>2006</td>\n",
       "      <td>WD</td>\n",
       "      <td>Abnorml</td>\n",
       "      <td>140000</td>\n",
       "    </tr>\n",
       "    <tr>\n",
       "      <th>4</th>\n",
       "      <td>5</td>\n",
       "      <td>60</td>\n",
       "      <td>RL</td>\n",
       "      <td>84.0</td>\n",
       "      <td>14260</td>\n",
       "      <td>Pave</td>\n",
       "      <td>NaN</td>\n",
       "      <td>IR1</td>\n",
       "      <td>Lvl</td>\n",
       "      <td>AllPub</td>\n",
       "      <td>...</td>\n",
       "      <td>0</td>\n",
       "      <td>NaN</td>\n",
       "      <td>NaN</td>\n",
       "      <td>NaN</td>\n",
       "      <td>0</td>\n",
       "      <td>12</td>\n",
       "      <td>2008</td>\n",
       "      <td>WD</td>\n",
       "      <td>Normal</td>\n",
       "      <td>250000</td>\n",
       "    </tr>\n",
       "  </tbody>\n",
       "</table>\n",
       "<p>5 rows × 81 columns</p>\n",
       "</div>"
      ],
      "text/plain": [
       "   Id  MSSubClass MSZoning  LotFrontage  LotArea Street Alley LotShape  \\\n",
       "0   1          60       RL         65.0     8450   Pave   NaN      Reg   \n",
       "1   2          20       RL         80.0     9600   Pave   NaN      Reg   \n",
       "2   3          60       RL         68.0    11250   Pave   NaN      IR1   \n",
       "3   4          70       RL         60.0     9550   Pave   NaN      IR1   \n",
       "4   5          60       RL         84.0    14260   Pave   NaN      IR1   \n",
       "\n",
       "  LandContour Utilities  ... PoolArea PoolQC Fence MiscFeature MiscVal MoSold  \\\n",
       "0         Lvl    AllPub  ...        0    NaN   NaN         NaN       0      2   \n",
       "1         Lvl    AllPub  ...        0    NaN   NaN         NaN       0      5   \n",
       "2         Lvl    AllPub  ...        0    NaN   NaN         NaN       0      9   \n",
       "3         Lvl    AllPub  ...        0    NaN   NaN         NaN       0      2   \n",
       "4         Lvl    AllPub  ...        0    NaN   NaN         NaN       0     12   \n",
       "\n",
       "  YrSold  SaleType  SaleCondition  SalePrice  \n",
       "0   2008        WD         Normal     208500  \n",
       "1   2007        WD         Normal     181500  \n",
       "2   2008        WD         Normal     223500  \n",
       "3   2006        WD        Abnorml     140000  \n",
       "4   2008        WD         Normal     250000  \n",
       "\n",
       "[5 rows x 81 columns]"
      ]
     },
     "execution_count": 3,
     "metadata": {},
     "output_type": "execute_result"
    }
   ],
   "source": [
    "train.head()"
   ]
  },
  {
   "cell_type": "markdown",
   "execution_count": null,
   "metadata": {
    "papermill": {
     "duration": 0.020745,
     "end_time": "2020-09-05T09:37:06.925944",
     "exception": false,
     "start_time": "2020-09-05T09:37:06.905199",
     "status": "completed"
    },
    "tags": []
   },
   "source": [
    "**Test data is similar to train data. The only difference is in that train contains the column SalePrice**"
   ]
  },
  {
   "cell_type": "markdown",
   "execution_count": null,
   "metadata": {
    "papermill": {
     "duration": 0.020775,
     "end_time": "2020-09-05T09:37:06.967742",
     "exception": false,
     "start_time": "2020-09-05T09:37:06.946967",
     "status": "completed"
    },
    "tags": []
   },
   "source": [
    "**We will be using train data for training and validation and final testing on test data**"
   ]
  },
  {
   "cell_type": "markdown",
   "execution_count": null,
   "metadata": {
    "papermill": {
     "duration": 0.021652,
     "end_time": "2020-09-05T09:37:07.010757",
     "exception": false,
     "start_time": "2020-09-05T09:37:06.989105",
     "status": "completed"
    },
    "tags": []
   },
   "source": [
    "# Understanding the data"
   ]
  },
  {
   "cell_type": "markdown",
   "execution_count": null,
   "metadata": {
    "papermill": {
     "duration": 0.016051,
     "end_time": "2020-09-05T09:37:07.043264",
     "exception": false,
     "start_time": "2020-09-05T09:37:07.027213",
     "status": "completed"
    },
    "tags": []
   },
   "source": [
    "# Filling Missing Values"
   ]
  },
  {
   "cell_type": "code",
   "execution_count": 4,
   "metadata": {
    "execution": {
     "iopub.execute_input": "2020-09-05T09:37:07.093066Z",
     "iopub.status.busy": "2020-09-05T09:37:07.092212Z",
     "iopub.status.idle": "2020-09-05T09:37:07.103068Z",
     "shell.execute_reply": "2020-09-05T09:37:07.103693Z"
    },
    "papermill": {
     "duration": 0.044302,
     "end_time": "2020-09-05T09:37:07.103852",
     "exception": false,
     "start_time": "2020-09-05T09:37:07.059550",
     "status": "completed"
    },
    "tags": []
   },
   "outputs": [
    {
     "name": "stdout",
     "output_type": "stream",
     "text": [
      "Missing values in train data\n"
     ]
    },
    {
     "data": {
      "text/plain": [
       "LotFrontage      259\n",
       "Alley           1369\n",
       "MasVnrType         8\n",
       "MasVnrArea         8\n",
       "BsmtQual          37\n",
       "BsmtCond          37\n",
       "BsmtExposure      38\n",
       "BsmtFinType1      37\n",
       "BsmtFinType2      38\n",
       "Electrical         1\n",
       "FireplaceQu      690\n",
       "GarageType        81\n",
       "GarageYrBlt       81\n",
       "GarageFinish      81\n",
       "GarageQual        81\n",
       "GarageCond        81\n",
       "PoolQC          1453\n",
       "Fence           1179\n",
       "MiscFeature     1406\n",
       "dtype: int64"
      ]
     },
     "execution_count": 4,
     "metadata": {},
     "output_type": "execute_result"
    }
   ],
   "source": [
    "print(\"Missing values in train data\")\n",
    "missing=train.isnull().sum()\n",
    "missing[missing>0]"
   ]
  },
  {
   "cell_type": "code",
   "execution_count": 5,
   "metadata": {
    "execution": {
     "iopub.execute_input": "2020-09-05T09:37:07.151873Z",
     "iopub.status.busy": "2020-09-05T09:37:07.150797Z",
     "iopub.status.idle": "2020-09-05T09:37:07.161063Z",
     "shell.execute_reply": "2020-09-05T09:37:07.160297Z"
    },
    "papermill": {
     "duration": 0.040175,
     "end_time": "2020-09-05T09:37:07.161227",
     "exception": false,
     "start_time": "2020-09-05T09:37:07.121052",
     "status": "completed"
    },
    "tags": []
   },
   "outputs": [
    {
     "name": "stdout",
     "output_type": "stream",
     "text": [
      "Missing values in test data\n"
     ]
    },
    {
     "data": {
      "text/plain": [
       "MSZoning           4\n",
       "LotFrontage      227\n",
       "Alley           1352\n",
       "Utilities          2\n",
       "Exterior1st        1\n",
       "Exterior2nd        1\n",
       "MasVnrType        16\n",
       "MasVnrArea        15\n",
       "BsmtQual          44\n",
       "BsmtCond          45\n",
       "BsmtExposure      44\n",
       "BsmtFinType1      42\n",
       "BsmtFinSF1         1\n",
       "BsmtFinType2      42\n",
       "BsmtFinSF2         1\n",
       "BsmtUnfSF          1\n",
       "TotalBsmtSF        1\n",
       "BsmtFullBath       2\n",
       "BsmtHalfBath       2\n",
       "KitchenQual        1\n",
       "Functional         2\n",
       "FireplaceQu      730\n",
       "GarageType        76\n",
       "GarageYrBlt       78\n",
       "GarageFinish      78\n",
       "GarageCars         1\n",
       "GarageArea         1\n",
       "GarageQual        78\n",
       "GarageCond        78\n",
       "PoolQC          1456\n",
       "Fence           1169\n",
       "MiscFeature     1408\n",
       "SaleType           1\n",
       "dtype: int64"
      ]
     },
     "execution_count": 5,
     "metadata": {},
     "output_type": "execute_result"
    }
   ],
   "source": [
    "print(\"Missing values in test data\")\n",
    "missing=test.isnull().sum()\n",
    "missing[missing>0]"
   ]
  },
  {
   "cell_type": "markdown",
   "execution_count": null,
   "metadata": {
    "papermill": {
     "duration": 0.016207,
     "end_time": "2020-09-05T09:37:07.194738",
     "exception": false,
     "start_time": "2020-09-05T09:37:07.178531",
     "status": "completed"
    },
    "tags": []
   },
   "source": [
    "**return_missing_col is a helper function to find the missing columns of a dataset easily**"
   ]
  },
  {
   "cell_type": "code",
   "execution_count": 6,
   "metadata": {
    "execution": {
     "iopub.execute_input": "2020-09-05T09:37:07.235792Z",
     "iopub.status.busy": "2020-09-05T09:37:07.234759Z",
     "iopub.status.idle": "2020-09-05T09:37:07.237752Z",
     "shell.execute_reply": "2020-09-05T09:37:07.237122Z"
    },
    "papermill": {
     "duration": 0.026633,
     "end_time": "2020-09-05T09:37:07.237879",
     "exception": false,
     "start_time": "2020-09-05T09:37:07.211246",
     "status": "completed"
    },
    "tags": []
   },
   "outputs": [],
   "source": [
    "def return_missing_col(data):\n",
    "    columns=[col for col in data.columns if data[col].isnull().any()]\n",
    "    return columns"
   ]
  },
  {
   "cell_type": "code",
   "execution_count": 7,
   "metadata": {
    "execution": {
     "iopub.execute_input": "2020-09-05T09:37:07.309388Z",
     "iopub.status.busy": "2020-09-05T09:37:07.308518Z",
     "iopub.status.idle": "2020-09-05T09:37:07.313923Z",
     "shell.execute_reply": "2020-09-05T09:37:07.312981Z"
    },
    "papermill": {
     "duration": 0.05941,
     "end_time": "2020-09-05T09:37:07.314089",
     "exception": false,
     "start_time": "2020-09-05T09:37:07.254679",
     "status": "completed"
    },
    "tags": []
   },
   "outputs": [
    {
     "data": {
      "text/plain": [
       "['LotFrontage',\n",
       " 'Alley',\n",
       " 'MasVnrType',\n",
       " 'MasVnrArea',\n",
       " 'BsmtQual',\n",
       " 'BsmtCond',\n",
       " 'BsmtExposure',\n",
       " 'BsmtFinType1',\n",
       " 'BsmtFinType2',\n",
       " 'Electrical',\n",
       " 'FireplaceQu',\n",
       " 'GarageType',\n",
       " 'GarageYrBlt',\n",
       " 'GarageFinish',\n",
       " 'GarageQual',\n",
       " 'GarageCond',\n",
       " 'PoolQC',\n",
       " 'Fence',\n",
       " 'MiscFeature']"
      ]
     },
     "execution_count": 7,
     "metadata": {},
     "output_type": "execute_result"
    }
   ],
   "source": [
    "return_missing_col(train)"
   ]
  },
  {
   "cell_type": "code",
   "execution_count": 8,
   "metadata": {
    "execution": {
     "iopub.execute_input": "2020-09-05T09:37:07.392192Z",
     "iopub.status.busy": "2020-09-05T09:37:07.391209Z",
     "iopub.status.idle": "2020-09-05T09:37:07.396109Z",
     "shell.execute_reply": "2020-09-05T09:37:07.395377Z"
    },
    "papermill": {
     "duration": 0.05951,
     "end_time": "2020-09-05T09:37:07.396231",
     "exception": false,
     "start_time": "2020-09-05T09:37:07.336721",
     "status": "completed"
    },
    "tags": []
   },
   "outputs": [
    {
     "data": {
      "text/plain": [
       "['MSZoning',\n",
       " 'LotFrontage',\n",
       " 'Alley',\n",
       " 'Utilities',\n",
       " 'Exterior1st',\n",
       " 'Exterior2nd',\n",
       " 'MasVnrType',\n",
       " 'MasVnrArea',\n",
       " 'BsmtQual',\n",
       " 'BsmtCond',\n",
       " 'BsmtExposure',\n",
       " 'BsmtFinType1',\n",
       " 'BsmtFinSF1',\n",
       " 'BsmtFinType2',\n",
       " 'BsmtFinSF2',\n",
       " 'BsmtUnfSF',\n",
       " 'TotalBsmtSF',\n",
       " 'BsmtFullBath',\n",
       " 'BsmtHalfBath',\n",
       " 'KitchenQual',\n",
       " 'Functional',\n",
       " 'FireplaceQu',\n",
       " 'GarageType',\n",
       " 'GarageYrBlt',\n",
       " 'GarageFinish',\n",
       " 'GarageCars',\n",
       " 'GarageArea',\n",
       " 'GarageQual',\n",
       " 'GarageCond',\n",
       " 'PoolQC',\n",
       " 'Fence',\n",
       " 'MiscFeature',\n",
       " 'SaleType']"
      ]
     },
     "execution_count": 8,
     "metadata": {},
     "output_type": "execute_result"
    }
   ],
   "source": [
    "return_missing_col(test)"
   ]
  },
  {
   "cell_type": "markdown",
   "execution_count": null,
   "metadata": {
    "papermill": {
     "duration": 0.016548,
     "end_time": "2020-09-05T09:37:07.429907",
     "exception": false,
     "start_time": "2020-09-05T09:37:07.413359",
     "status": "completed"
    },
    "tags": []
   },
   "source": [
    "**Inorder to fill the missing values effectively, you have to understand the data in the dataset. Go through the data description \n",
    "    and find which columns should be dropped and which columns to be fillled**"
   ]
  },
  {
   "cell_type": "code",
   "execution_count": 9,
   "metadata": {
    "execution": {
     "iopub.execute_input": "2020-09-05T09:37:07.471516Z",
     "iopub.status.busy": "2020-09-05T09:37:07.470367Z",
     "iopub.status.idle": "2020-09-05T09:37:07.474942Z",
     "shell.execute_reply": "2020-09-05T09:37:07.474174Z"
    },
    "papermill": {
     "duration": 0.028179,
     "end_time": "2020-09-05T09:37:07.475064",
     "exception": false,
     "start_time": "2020-09-05T09:37:07.446885",
     "status": "completed"
    },
    "tags": []
   },
   "outputs": [
    {
     "data": {
      "text/plain": [
       "70.04995836802665"
      ]
     },
     "execution_count": 9,
     "metadata": {},
     "output_type": "execute_result"
    }
   ],
   "source": [
    "train['LotFrontage'].mean()"
   ]
  },
  {
   "cell_type": "code",
   "execution_count": 10,
   "metadata": {
    "execution": {
     "iopub.execute_input": "2020-09-05T09:37:07.518672Z",
     "iopub.status.busy": "2020-09-05T09:37:07.517911Z",
     "iopub.status.idle": "2020-09-05T09:37:07.524424Z",
     "shell.execute_reply": "2020-09-05T09:37:07.523427Z"
    },
    "papermill": {
     "duration": 0.0323,
     "end_time": "2020-09-05T09:37:07.524587",
     "exception": false,
     "start_time": "2020-09-05T09:37:07.492287",
     "status": "completed"
    },
    "tags": []
   },
   "outputs": [],
   "source": [
    "train['LotFrontage']=train['LotFrontage'].fillna(train['LotFrontage'].mean())\n",
    "test['LotFrontage']=test['LotFrontage'].fillna(train['LotFrontage']).mean()"
   ]
  },
  {
   "cell_type": "code",
   "execution_count": 11,
   "metadata": {
    "execution": {
     "iopub.execute_input": "2020-09-05T09:37:07.573580Z",
     "iopub.status.busy": "2020-09-05T09:37:07.572496Z",
     "iopub.status.idle": "2020-09-05T09:37:07.583826Z",
     "shell.execute_reply": "2020-09-05T09:37:07.582780Z"
    },
    "papermill": {
     "duration": 0.039218,
     "end_time": "2020-09-05T09:37:07.583993",
     "exception": false,
     "start_time": "2020-09-05T09:37:07.544775",
     "status": "completed"
    },
    "tags": []
   },
   "outputs": [],
   "source": [
    "train.drop('Alley',axis=1,inplace=True)\n",
    "test.drop('Alley',axis=1,inplace=True)"
   ]
  },
  {
   "cell_type": "code",
   "execution_count": 12,
   "metadata": {
    "execution": {
     "iopub.execute_input": "2020-09-05T09:37:07.639685Z",
     "iopub.status.busy": "2020-09-05T09:37:07.638677Z",
     "iopub.status.idle": "2020-09-05T09:37:07.641840Z",
     "shell.execute_reply": "2020-09-05T09:37:07.640894Z"
    },
    "papermill": {
     "duration": 0.034592,
     "end_time": "2020-09-05T09:37:07.642010",
     "exception": false,
     "start_time": "2020-09-05T09:37:07.607418",
     "status": "completed"
    },
    "tags": []
   },
   "outputs": [],
   "source": [
    "train.drop(columns=['MasVnrType','MasVnrArea',],axis=1,inplace=True)\n",
    "test.drop(columns=['MasVnrType','MasVnrArea',],axis=1,inplace=True)"
   ]
  },
  {
   "cell_type": "markdown",
   "execution_count": null,
   "metadata": {
    "papermill": {
     "duration": 0.022626,
     "end_time": "2020-09-05T09:37:07.687841",
     "exception": false,
     "start_time": "2020-09-05T09:37:07.665215",
     "status": "completed"
    },
    "tags": []
   },
   "source": [
    "**check_object is another helper function to help us in creating data for our model**"
   ]
  },
  {
   "cell_type": "code",
   "execution_count": 13,
   "metadata": {
    "execution": {
     "iopub.execute_input": "2020-09-05T09:37:07.741323Z",
     "iopub.status.busy": "2020-09-05T09:37:07.740441Z",
     "iopub.status.idle": "2020-09-05T09:37:07.743049Z",
     "shell.execute_reply": "2020-09-05T09:37:07.743626Z"
    },
    "papermill": {
     "duration": 0.032954,
     "end_time": "2020-09-05T09:37:07.743794",
     "exception": false,
     "start_time": "2020-09-05T09:37:07.710840",
     "status": "completed"
    },
    "tags": []
   },
   "outputs": [],
   "source": [
    "# the function takes in a type of Series\n",
    "def check_object(obj):\n",
    "    objct=[]\n",
    "    for x in obj:\n",
    "        if x=='Na':\n",
    "            objct.append(0)\n",
    "        else:\n",
    "            objct.append(1)\n",
    "    return objct"
   ]
  },
  {
   "cell_type": "code",
   "execution_count": 14,
   "metadata": {
    "execution": {
     "iopub.execute_input": "2020-09-05T09:37:07.792918Z",
     "iopub.status.busy": "2020-09-05T09:37:07.792078Z",
     "iopub.status.idle": "2020-09-05T09:37:07.795096Z",
     "shell.execute_reply": "2020-09-05T09:37:07.795665Z"
    },
    "papermill": {
     "duration": 0.03434,
     "end_time": "2020-09-05T09:37:07.795829",
     "exception": false,
     "start_time": "2020-09-05T09:37:07.761489",
     "status": "completed"
    },
    "tags": []
   },
   "outputs": [],
   "source": [
    "# we need to fill the misssing values before calling the funnction\n",
    "train['BsmtQual']=train['BsmtQual'].fillna('Na')\n",
    "test['BsmtQual']=test['BsmtQual'].fillna('Na')\n",
    "\n",
    "train['Basement']=pd.DataFrame(check_object(train['BsmtQual']))\n",
    "\n",
    "test['Basement']=pd.DataFrame(check_object(test['BsmtQual']))"
   ]
  },
  {
   "cell_type": "code",
   "execution_count": 15,
   "metadata": {
    "execution": {
     "iopub.execute_input": "2020-09-05T09:37:07.839786Z",
     "iopub.status.busy": "2020-09-05T09:37:07.838685Z",
     "iopub.status.idle": "2020-09-05T09:37:07.847146Z",
     "shell.execute_reply": "2020-09-05T09:37:07.846380Z"
    },
    "papermill": {
     "duration": 0.033861,
     "end_time": "2020-09-05T09:37:07.847270",
     "exception": false,
     "start_time": "2020-09-05T09:37:07.813409",
     "status": "completed"
    },
    "tags": []
   },
   "outputs": [],
   "source": [
    "train.drop(columns=['BsmtQual','BsmtCond','BsmtExposure','BsmtFinType1','BsmtFinType2','BsmtFinSF1','BsmtFinSF2','BsmtFinSF1','BsmtUnfSF',\n",
    "                    'TotalBsmtSF'],axis=1,inplace=True)\n",
    "\n",
    "test.drop(columns=['BsmtQual','BsmtCond','BsmtExposure','BsmtFinType1','BsmtFinType2','BsmtFinSF1','BsmtFinSF2','BsmtFinSF1','BsmtUnfSF',\n",
    "                   'TotalBsmtSF'],axis=1,inplace=True)"
   ]
  },
  {
   "cell_type": "code",
   "execution_count": 16,
   "metadata": {
    "execution": {
     "iopub.execute_input": "2020-09-05T09:37:07.892910Z",
     "iopub.status.busy": "2020-09-05T09:37:07.891805Z",
     "iopub.status.idle": "2020-09-05T09:37:07.895773Z",
     "shell.execute_reply": "2020-09-05T09:37:07.896486Z"
    },
    "papermill": {
     "duration": 0.031801,
     "end_time": "2020-09-05T09:37:07.896645",
     "exception": false,
     "start_time": "2020-09-05T09:37:07.864844",
     "status": "completed"
    },
    "tags": []
   },
   "outputs": [
    {
     "data": {
      "text/plain": [
       "SBrkr    1334\n",
       "FuseA      94\n",
       "FuseF      27\n",
       "FuseP       3\n",
       "Mix         1\n",
       "Name: Electrical, dtype: int64"
      ]
     },
     "execution_count": 16,
     "metadata": {},
     "output_type": "execute_result"
    }
   ],
   "source": [
    "train['Electrical'].value_counts()"
   ]
  },
  {
   "cell_type": "code",
   "execution_count": 17,
   "metadata": {
    "execution": {
     "iopub.execute_input": "2020-09-05T09:37:07.939946Z",
     "iopub.status.busy": "2020-09-05T09:37:07.938929Z",
     "iopub.status.idle": "2020-09-05T09:37:07.942242Z",
     "shell.execute_reply": "2020-09-05T09:37:07.941510Z"
    },
    "papermill": {
     "duration": 0.027882,
     "end_time": "2020-09-05T09:37:07.942388",
     "exception": false,
     "start_time": "2020-09-05T09:37:07.914506",
     "status": "completed"
    },
    "tags": []
   },
   "outputs": [],
   "source": [
    "# filling missing values with 'Mix'\n",
    "train['Electrical']=train['Electrical'].fillna('Mix')"
   ]
  },
  {
   "cell_type": "code",
   "execution_count": 18,
   "metadata": {
    "execution": {
     "iopub.execute_input": "2020-09-05T09:37:07.989764Z",
     "iopub.status.busy": "2020-09-05T09:37:07.988267Z",
     "iopub.status.idle": "2020-09-05T09:37:07.993299Z",
     "shell.execute_reply": "2020-09-05T09:37:07.992556Z"
    },
    "papermill": {
     "duration": 0.033194,
     "end_time": "2020-09-05T09:37:07.993464",
     "exception": false,
     "start_time": "2020-09-05T09:37:07.960270",
     "status": "completed"
    },
    "tags": []
   },
   "outputs": [],
   "source": [
    "train.drop(columns=['FireplaceQu'],axis=1,inplace=True)\n",
    "test.drop(columns=['FireplaceQu'],axis=1,inplace=True)"
   ]
  },
  {
   "cell_type": "code",
   "execution_count": 19,
   "metadata": {
    "execution": {
     "iopub.execute_input": "2020-09-05T09:37:08.047378Z",
     "iopub.status.busy": "2020-09-05T09:37:08.046487Z",
     "iopub.status.idle": "2020-09-05T09:37:08.050143Z",
     "shell.execute_reply": "2020-09-05T09:37:08.049560Z"
    },
    "papermill": {
     "duration": 0.038446,
     "end_time": "2020-09-05T09:37:08.050276",
     "exception": false,
     "start_time": "2020-09-05T09:37:08.011830",
     "status": "completed"
    },
    "tags": []
   },
   "outputs": [],
   "source": [
    "train['GarageQual']=train['GarageQual'].fillna('Na')\n",
    "test['GarageQual']=test['GarageQual'].fillna('Na')\n",
    "\n",
    "train['garage']=pd.DataFrame(check_object(train['GarageQual']))\n",
    "test['garage']=pd.DataFrame(check_object(test['GarageQual']))"
   ]
  },
  {
   "cell_type": "code",
   "execution_count": 20,
   "metadata": {
    "execution": {
     "iopub.execute_input": "2020-09-05T09:37:08.098218Z",
     "iopub.status.busy": "2020-09-05T09:37:08.096667Z",
     "iopub.status.idle": "2020-09-05T09:37:08.106548Z",
     "shell.execute_reply": "2020-09-05T09:37:08.105564Z"
    },
    "papermill": {
     "duration": 0.038016,
     "end_time": "2020-09-05T09:37:08.106710",
     "exception": false,
     "start_time": "2020-09-05T09:37:08.068694",
     "status": "completed"
    },
    "tags": []
   },
   "outputs": [],
   "source": [
    "train.drop(columns=['GarageType','GarageYrBlt','GarageFinish','GarageCars','GarageArea','GarageQual','GarageCond'],axis=1,inplace=True)\n",
    "test.drop(columns=['GarageType','GarageYrBlt','GarageFinish','GarageCars','GarageArea','GarageQual','GarageCond'],axis=1,inplace=True)"
   ]
  },
  {
   "cell_type": "code",
   "execution_count": 21,
   "metadata": {
    "execution": {
     "iopub.execute_input": "2020-09-05T09:37:08.166966Z",
     "iopub.status.busy": "2020-09-05T09:37:08.165626Z",
     "iopub.status.idle": "2020-09-05T09:37:08.169303Z",
     "shell.execute_reply": "2020-09-05T09:37:08.168371Z"
    },
    "papermill": {
     "duration": 0.037949,
     "end_time": "2020-09-05T09:37:08.169491",
     "exception": false,
     "start_time": "2020-09-05T09:37:08.131542",
     "status": "completed"
    },
    "tags": []
   },
   "outputs": [],
   "source": [
    "train['PoolQC']=train['PoolQC'].fillna('Na')\n",
    "test['PoolQC']=test['PoolQC'].fillna('Na')\n",
    "\n",
    "train['pool']=pd.DataFrame(check_object(train['PoolQC']))\n",
    "test['pool']=pd.DataFrame(check_object(test['PoolQC']))"
   ]
  },
  {
   "cell_type": "code",
   "execution_count": 22,
   "metadata": {
    "execution": {
     "iopub.execute_input": "2020-09-05T09:37:08.237308Z",
     "iopub.status.busy": "2020-09-05T09:37:08.236180Z",
     "iopub.status.idle": "2020-09-05T09:37:08.240756Z",
     "shell.execute_reply": "2020-09-05T09:37:08.239778Z"
    },
    "papermill": {
     "duration": 0.044565,
     "end_time": "2020-09-05T09:37:08.240938",
     "exception": false,
     "start_time": "2020-09-05T09:37:08.196373",
     "status": "completed"
    },
    "tags": []
   },
   "outputs": [],
   "source": [
    "train.drop(columns=['PoolQC','PoolArea'],axis=1,inplace=True)\n",
    "test.drop(columns=['PoolQC','PoolArea'],axis=1,inplace=True)"
   ]
  },
  {
   "cell_type": "code",
   "execution_count": 23,
   "metadata": {
    "execution": {
     "iopub.execute_input": "2020-09-05T09:37:08.322969Z",
     "iopub.status.busy": "2020-09-05T09:37:08.321316Z",
     "iopub.status.idle": "2020-09-05T09:37:08.324151Z",
     "shell.execute_reply": "2020-09-05T09:37:08.325062Z"
    },
    "papermill": {
     "duration": 0.04851,
     "end_time": "2020-09-05T09:37:08.325282",
     "exception": false,
     "start_time": "2020-09-05T09:37:08.276772",
     "status": "completed"
    },
    "tags": []
   },
   "outputs": [],
   "source": [
    "train['Fence']=train['Fence'].fillna('Na')\n",
    "test['Fence']=test['Fence'].fillna('Na')\n",
    "\n",
    "train['fence']=pd.DataFrame(check_object(train['Fence']))\n",
    "test['fence']=pd.DataFrame(check_object(test['Fence']))"
   ]
  },
  {
   "cell_type": "code",
   "execution_count": 24,
   "metadata": {
    "execution": {
     "iopub.execute_input": "2020-09-05T09:37:08.406929Z",
     "iopub.status.busy": "2020-09-05T09:37:08.403010Z",
     "iopub.status.idle": "2020-09-05T09:37:08.416631Z",
     "shell.execute_reply": "2020-09-05T09:37:08.415747Z"
    },
    "papermill": {
     "duration": 0.064614,
     "end_time": "2020-09-05T09:37:08.416796",
     "exception": false,
     "start_time": "2020-09-05T09:37:08.352182",
     "status": "completed"
    },
    "tags": []
   },
   "outputs": [],
   "source": [
    "train.drop('Fence',axis=1,inplace=True)\n",
    "test.drop('Fence',axis=1,inplace=True)"
   ]
  },
  {
   "cell_type": "code",
   "execution_count": 25,
   "metadata": {
    "execution": {
     "iopub.execute_input": "2020-09-05T09:37:08.493989Z",
     "iopub.status.busy": "2020-09-05T09:37:08.492776Z",
     "iopub.status.idle": "2020-09-05T09:37:08.498134Z",
     "shell.execute_reply": "2020-09-05T09:37:08.497273Z"
    },
    "papermill": {
     "duration": 0.050726,
     "end_time": "2020-09-05T09:37:08.498313",
     "exception": false,
     "start_time": "2020-09-05T09:37:08.447587",
     "status": "completed"
    },
    "tags": []
   },
   "outputs": [],
   "source": [
    "train.drop(columns=['MiscFeature','MiscVal','MoSold','YrSold','SaleType','SaleCondition'],axis=1,inplace=True)\n",
    "test.drop(columns=['MiscFeature','MiscVal','MoSold','YrSold','SaleType','SaleCondition'],axis=1,inplace=True)"
   ]
  },
  {
   "cell_type": "code",
   "execution_count": 26,
   "metadata": {
    "execution": {
     "iopub.execute_input": "2020-09-05T09:37:08.571746Z",
     "iopub.status.busy": "2020-09-05T09:37:08.567850Z",
     "iopub.status.idle": "2020-09-05T09:37:08.609648Z",
     "shell.execute_reply": "2020-09-05T09:37:08.610493Z"
    },
    "papermill": {
     "duration": 0.08608,
     "end_time": "2020-09-05T09:37:08.610702",
     "exception": false,
     "start_time": "2020-09-05T09:37:08.524622",
     "status": "completed"
    },
    "tags": []
   },
   "outputs": [
    {
     "name": "stdout",
     "output_type": "stream",
     "text": [
      "Columns in the train data with missing values are: 0\n"
     ]
    }
   ],
   "source": [
    "print(\"Columns in the train data with missing values are:\",len(return_missing_col(train)))"
   ]
  },
  {
   "cell_type": "code",
   "execution_count": 27,
   "metadata": {
    "execution": {
     "iopub.execute_input": "2020-09-05T09:37:08.679144Z",
     "iopub.status.busy": "2020-09-05T09:37:08.678022Z",
     "iopub.status.idle": "2020-09-05T09:37:08.684179Z",
     "shell.execute_reply": "2020-09-05T09:37:08.683455Z"
    },
    "papermill": {
     "duration": 0.054261,
     "end_time": "2020-09-05T09:37:08.684297",
     "exception": false,
     "start_time": "2020-09-05T09:37:08.630036",
     "status": "completed"
    },
    "tags": []
   },
   "outputs": [
    {
     "name": "stdout",
     "output_type": "stream",
     "text": [
      "Columns with missing values are: ['MSZoning', 'Utilities', 'Exterior1st', 'Exterior2nd', 'BsmtFullBath', 'BsmtHalfBath', 'KitchenQual', 'Functional']\n"
     ]
    }
   ],
   "source": [
    "print(\"Columns with missing values are:\",return_missing_col(test))"
   ]
  },
  {
   "cell_type": "code",
   "execution_count": 28,
   "metadata": {
    "execution": {
     "iopub.execute_input": "2020-09-05T09:37:08.733632Z",
     "iopub.status.busy": "2020-09-05T09:37:08.732654Z",
     "iopub.status.idle": "2020-09-05T09:37:08.736089Z",
     "shell.execute_reply": "2020-09-05T09:37:08.735147Z"
    },
    "papermill": {
     "duration": 0.032586,
     "end_time": "2020-09-05T09:37:08.736247",
     "exception": false,
     "start_time": "2020-09-05T09:37:08.703661",
     "status": "completed"
    },
    "tags": []
   },
   "outputs": [],
   "source": [
    "train.drop(columns=['MSSubClass'],inplace=True,axis=1)\n",
    "test.drop(columns=['MSSubClass'],inplace=True,axis=1)"
   ]
  },
  {
   "cell_type": "code",
   "execution_count": 29,
   "metadata": {
    "execution": {
     "iopub.execute_input": "2020-09-05T09:37:08.829634Z",
     "iopub.status.busy": "2020-09-05T09:37:08.828631Z",
     "iopub.status.idle": "2020-09-05T09:37:08.833462Z",
     "shell.execute_reply": "2020-09-05T09:37:08.832813Z"
    },
    "papermill": {
     "duration": 0.030831,
     "end_time": "2020-09-05T09:37:08.833595",
     "exception": false,
     "start_time": "2020-09-05T09:37:08.802764",
     "status": "completed"
    },
    "tags": []
   },
   "outputs": [
    {
     "data": {
      "text/plain": [
       "4"
      ]
     },
     "execution_count": 29,
     "metadata": {},
     "output_type": "execute_result"
    }
   ],
   "source": [
    "test['MSZoning'].isnull().sum()"
   ]
  },
  {
   "cell_type": "code",
   "execution_count": 30,
   "metadata": {
    "execution": {
     "iopub.execute_input": "2020-09-05T09:37:08.879778Z",
     "iopub.status.busy": "2020-09-05T09:37:08.878911Z",
     "iopub.status.idle": "2020-09-05T09:37:08.882508Z",
     "shell.execute_reply": "2020-09-05T09:37:08.881758Z"
    },
    "papermill": {
     "duration": 0.029864,
     "end_time": "2020-09-05T09:37:08.882633",
     "exception": false,
     "start_time": "2020-09-05T09:37:08.852769",
     "status": "completed"
    },
    "tags": []
   },
   "outputs": [],
   "source": [
    "test['MSZoning']=test['MSZoning'].fillna('RL')"
   ]
  },
  {
   "cell_type": "code",
   "execution_count": 31,
   "metadata": {
    "execution": {
     "iopub.execute_input": "2020-09-05T09:37:08.931115Z",
     "iopub.status.busy": "2020-09-05T09:37:08.930099Z",
     "iopub.status.idle": "2020-09-05T09:37:08.938653Z",
     "shell.execute_reply": "2020-09-05T09:37:08.937879Z"
    },
    "papermill": {
     "duration": 0.036954,
     "end_time": "2020-09-05T09:37:08.938779",
     "exception": false,
     "start_time": "2020-09-05T09:37:08.901825",
     "status": "completed"
    },
    "tags": []
   },
   "outputs": [
    {
     "name": "stdout",
     "output_type": "stream",
     "text": [
      " Number of missing values in Utilities are : 2\n"
     ]
    },
    {
     "data": {
      "text/plain": [
       "AllPub    1457\n",
       "Name: Utilities, dtype: int64"
      ]
     },
     "execution_count": 31,
     "metadata": {},
     "output_type": "execute_result"
    }
   ],
   "source": [
    "print(\" Number of missing values in Utilities are :\",test['Utilities'].isnull().sum())\n",
    "test['Utilities'].value_counts()"
   ]
  },
  {
   "cell_type": "code",
   "execution_count": 32,
   "metadata": {
    "execution": {
     "iopub.execute_input": "2020-09-05T09:37:08.985088Z",
     "iopub.status.busy": "2020-09-05T09:37:08.984246Z",
     "iopub.status.idle": "2020-09-05T09:37:08.987864Z",
     "shell.execute_reply": "2020-09-05T09:37:08.987098Z"
    },
    "papermill": {
     "duration": 0.029981,
     "end_time": "2020-09-05T09:37:08.987988",
     "exception": false,
     "start_time": "2020-09-05T09:37:08.958007",
     "status": "completed"
    },
    "tags": []
   },
   "outputs": [],
   "source": [
    "test['Utilities']=test['Utilities'].fillna('AllPub')"
   ]
  },
  {
   "cell_type": "code",
   "execution_count": 33,
   "metadata": {
    "execution": {
     "iopub.execute_input": "2020-09-05T09:37:09.041273Z",
     "iopub.status.busy": "2020-09-05T09:37:09.040236Z",
     "iopub.status.idle": "2020-09-05T09:37:09.043491Z",
     "shell.execute_reply": "2020-09-05T09:37:09.042673Z"
    },
    "papermill": {
     "duration": 0.035219,
     "end_time": "2020-09-05T09:37:09.043650",
     "exception": false,
     "start_time": "2020-09-05T09:37:09.008431",
     "status": "completed"
    },
    "tags": []
   },
   "outputs": [],
   "source": [
    "test.drop(columns=['Neighborhood','LotConfig','LandSlope','Condition1','Condition2','BldgType','HouseStyle','YearRemodAdd','RoofStyle',\n",
    "                   'RoofMatl','Exterior1st','Exterior2nd','BsmtFullBath','BsmtHalfBath','KitchenQual','Functional'],axis=1,inplace=True)\n",
    "train.drop(columns=['Neighborhood','LotConfig','LandSlope','Condition1','Condition2','BldgType','HouseStyle','YearRemodAdd','RoofStyle',\n",
    "                   'RoofMatl','Exterior1st','Exterior2nd','BsmtFullBath','BsmtHalfBath','KitchenQual','Functional'],axis=1,inplace=True)"
   ]
  },
  {
   "cell_type": "code",
   "execution_count": 34,
   "metadata": {
    "execution": {
     "iopub.execute_input": "2020-09-05T09:37:09.114972Z",
     "iopub.status.busy": "2020-09-05T09:37:09.113998Z",
     "iopub.status.idle": "2020-09-05T09:37:09.118897Z",
     "shell.execute_reply": "2020-09-05T09:37:09.119575Z"
    },
    "papermill": {
     "duration": 0.048746,
     "end_time": "2020-09-05T09:37:09.119735",
     "exception": false,
     "start_time": "2020-09-05T09:37:09.070989",
     "status": "completed"
    },
    "tags": []
   },
   "outputs": [
    {
     "name": "stdout",
     "output_type": "stream",
     "text": [
      "Columns with missing values are: 0\n"
     ]
    }
   ],
   "source": [
    "print(\"Columns with missing values are:\",len(return_missing_col(test)))"
   ]
  },
  {
   "cell_type": "code",
   "execution_count": 35,
   "metadata": {
    "execution": {
     "iopub.execute_input": "2020-09-05T09:37:09.167008Z",
     "iopub.status.busy": "2020-09-05T09:37:09.166049Z",
     "iopub.status.idle": "2020-09-05T09:37:09.172949Z",
     "shell.execute_reply": "2020-09-05T09:37:09.172018Z"
    },
    "papermill": {
     "duration": 0.033397,
     "end_time": "2020-09-05T09:37:09.173102",
     "exception": false,
     "start_time": "2020-09-05T09:37:09.139705",
     "status": "completed"
    },
    "tags": []
   },
   "outputs": [
    {
     "data": {
      "text/plain": [
       "Index(['Id', 'MSZoning', 'LotFrontage', 'LotArea', 'Street', 'LotShape',\n",
       "       'LandContour', 'Utilities', 'OverallQual', 'OverallCond', 'YearBuilt',\n",
       "       'ExterQual', 'ExterCond', 'Foundation', 'Heating', 'HeatingQC',\n",
       "       'CentralAir', 'Electrical', '1stFlrSF', '2ndFlrSF', 'LowQualFinSF',\n",
       "       'GrLivArea', 'FullBath', 'HalfBath', 'BedroomAbvGr', 'KitchenAbvGr',\n",
       "       'TotRmsAbvGrd', 'Fireplaces', 'PavedDrive', 'WoodDeckSF', 'OpenPorchSF',\n",
       "       'EnclosedPorch', '3SsnPorch', 'ScreenPorch', 'SalePrice', 'Basement',\n",
       "       'garage', 'pool', 'fence'],\n",
       "      dtype='object')"
      ]
     },
     "execution_count": 35,
     "metadata": {},
     "output_type": "execute_result"
    }
   ],
   "source": [
    "train.columns"
   ]
  },
  {
   "cell_type": "code",
   "execution_count": 36,
   "metadata": {
    "execution": {
     "iopub.execute_input": "2020-09-05T09:37:09.222268Z",
     "iopub.status.busy": "2020-09-05T09:37:09.221315Z",
     "iopub.status.idle": "2020-09-05T09:37:09.226587Z",
     "shell.execute_reply": "2020-09-05T09:37:09.225673Z"
    },
    "papermill": {
     "duration": 0.032276,
     "end_time": "2020-09-05T09:37:09.226746",
     "exception": false,
     "start_time": "2020-09-05T09:37:09.194470",
     "status": "completed"
    },
    "tags": []
   },
   "outputs": [
    {
     "data": {
      "text/plain": [
       "Index(['Id', 'MSZoning', 'LotFrontage', 'LotArea', 'Street', 'LotShape',\n",
       "       'LandContour', 'Utilities', 'OverallQual', 'OverallCond', 'YearBuilt',\n",
       "       'ExterQual', 'ExterCond', 'Foundation', 'Heating', 'HeatingQC',\n",
       "       'CentralAir', 'Electrical', '1stFlrSF', '2ndFlrSF', 'LowQualFinSF',\n",
       "       'GrLivArea', 'FullBath', 'HalfBath', 'BedroomAbvGr', 'KitchenAbvGr',\n",
       "       'TotRmsAbvGrd', 'Fireplaces', 'PavedDrive', 'WoodDeckSF', 'OpenPorchSF',\n",
       "       'EnclosedPorch', '3SsnPorch', 'ScreenPorch', 'Basement', 'garage',\n",
       "       'pool', 'fence'],\n",
       "      dtype='object')"
      ]
     },
     "execution_count": 36,
     "metadata": {},
     "output_type": "execute_result"
    }
   ],
   "source": [
    "test.columns"
   ]
  },
  {
   "cell_type": "markdown",
   "execution_count": null,
   "metadata": {
    "papermill": {
     "duration": 0.025484,
     "end_time": "2020-09-05T09:37:09.280254",
     "exception": false,
     "start_time": "2020-09-05T09:37:09.254770",
     "status": "completed"
    },
    "tags": []
   },
   "source": [
    "# Creating features"
   ]
  },
  {
   "cell_type": "code",
   "execution_count": 37,
   "metadata": {
    "execution": {
     "iopub.execute_input": "2020-09-05T09:37:09.329727Z",
     "iopub.status.busy": "2020-09-05T09:37:09.328755Z",
     "iopub.status.idle": "2020-09-05T09:37:09.332082Z",
     "shell.execute_reply": "2020-09-05T09:37:09.331311Z"
    },
    "papermill": {
     "duration": 0.031517,
     "end_time": "2020-09-05T09:37:09.332203",
     "exception": false,
     "start_time": "2020-09-05T09:37:09.300686",
     "status": "completed"
    },
    "tags": []
   },
   "outputs": [],
   "source": [
    "features=['MSZoning','LotFrontage','LotArea','YearBuilt', 'Street','Utilities', 'OverallQual', 'OverallCond','ExterQual', 'ExterCond',\n",
    "          'Foundation', 'Heating','FullBath', 'HeatingQC','CentralAir', 'Electrical', '1stFlrSF', '2ndFlrSF','GrLivArea','BedroomAbvGr', 'KitchenAbvGr',\n",
    "       'TotRmsAbvGrd', 'Fireplaces','PavedDrive', 'Basement', 'garage','pool', 'fence']"
   ]
  },
  {
   "cell_type": "code",
   "execution_count": 38,
   "metadata": {
    "execution": {
     "iopub.execute_input": "2020-09-05T09:37:09.380489Z",
     "iopub.status.busy": "2020-09-05T09:37:09.379249Z",
     "iopub.status.idle": "2020-09-05T09:37:09.383750Z",
     "shell.execute_reply": "2020-09-05T09:37:09.383133Z"
    },
    "papermill": {
     "duration": 0.031272,
     "end_time": "2020-09-05T09:37:09.383877",
     "exception": false,
     "start_time": "2020-09-05T09:37:09.352605",
     "status": "completed"
    },
    "tags": []
   },
   "outputs": [],
   "source": [
    "X=train[features]\n",
    "y=train.SalePrice"
   ]
  },
  {
   "cell_type": "code",
   "execution_count": 39,
   "metadata": {
    "execution": {
     "iopub.execute_input": "2020-09-05T09:37:09.459959Z",
     "iopub.status.busy": "2020-09-05T09:37:09.449077Z",
     "iopub.status.idle": "2020-09-05T09:37:09.464809Z",
     "shell.execute_reply": "2020-09-05T09:37:09.465555Z"
    },
    "papermill": {
     "duration": 0.061475,
     "end_time": "2020-09-05T09:37:09.465709",
     "exception": false,
     "start_time": "2020-09-05T09:37:09.404234",
     "status": "completed"
    },
    "tags": []
   },
   "outputs": [
    {
     "data": {
      "text/html": [
       "<div>\n",
       "<style scoped>\n",
       "    .dataframe tbody tr th:only-of-type {\n",
       "        vertical-align: middle;\n",
       "    }\n",
       "\n",
       "    .dataframe tbody tr th {\n",
       "        vertical-align: top;\n",
       "    }\n",
       "\n",
       "    .dataframe thead th {\n",
       "        text-align: right;\n",
       "    }\n",
       "</style>\n",
       "<table border=\"1\" class=\"dataframe\">\n",
       "  <thead>\n",
       "    <tr style=\"text-align: right;\">\n",
       "      <th></th>\n",
       "      <th>MSZoning</th>\n",
       "      <th>LotFrontage</th>\n",
       "      <th>LotArea</th>\n",
       "      <th>YearBuilt</th>\n",
       "      <th>Street</th>\n",
       "      <th>Utilities</th>\n",
       "      <th>OverallQual</th>\n",
       "      <th>OverallCond</th>\n",
       "      <th>ExterQual</th>\n",
       "      <th>ExterCond</th>\n",
       "      <th>...</th>\n",
       "      <th>GrLivArea</th>\n",
       "      <th>BedroomAbvGr</th>\n",
       "      <th>KitchenAbvGr</th>\n",
       "      <th>TotRmsAbvGrd</th>\n",
       "      <th>Fireplaces</th>\n",
       "      <th>PavedDrive</th>\n",
       "      <th>Basement</th>\n",
       "      <th>garage</th>\n",
       "      <th>pool</th>\n",
       "      <th>fence</th>\n",
       "    </tr>\n",
       "  </thead>\n",
       "  <tbody>\n",
       "    <tr>\n",
       "      <th>0</th>\n",
       "      <td>RL</td>\n",
       "      <td>65.0</td>\n",
       "      <td>8450</td>\n",
       "      <td>2003</td>\n",
       "      <td>Pave</td>\n",
       "      <td>AllPub</td>\n",
       "      <td>7</td>\n",
       "      <td>5</td>\n",
       "      <td>Gd</td>\n",
       "      <td>TA</td>\n",
       "      <td>...</td>\n",
       "      <td>1710</td>\n",
       "      <td>3</td>\n",
       "      <td>1</td>\n",
       "      <td>8</td>\n",
       "      <td>0</td>\n",
       "      <td>Y</td>\n",
       "      <td>1</td>\n",
       "      <td>1</td>\n",
       "      <td>0</td>\n",
       "      <td>0</td>\n",
       "    </tr>\n",
       "    <tr>\n",
       "      <th>1</th>\n",
       "      <td>RL</td>\n",
       "      <td>80.0</td>\n",
       "      <td>9600</td>\n",
       "      <td>1976</td>\n",
       "      <td>Pave</td>\n",
       "      <td>AllPub</td>\n",
       "      <td>6</td>\n",
       "      <td>8</td>\n",
       "      <td>TA</td>\n",
       "      <td>TA</td>\n",
       "      <td>...</td>\n",
       "      <td>1262</td>\n",
       "      <td>3</td>\n",
       "      <td>1</td>\n",
       "      <td>6</td>\n",
       "      <td>1</td>\n",
       "      <td>Y</td>\n",
       "      <td>1</td>\n",
       "      <td>1</td>\n",
       "      <td>0</td>\n",
       "      <td>0</td>\n",
       "    </tr>\n",
       "    <tr>\n",
       "      <th>2</th>\n",
       "      <td>RL</td>\n",
       "      <td>68.0</td>\n",
       "      <td>11250</td>\n",
       "      <td>2001</td>\n",
       "      <td>Pave</td>\n",
       "      <td>AllPub</td>\n",
       "      <td>7</td>\n",
       "      <td>5</td>\n",
       "      <td>Gd</td>\n",
       "      <td>TA</td>\n",
       "      <td>...</td>\n",
       "      <td>1786</td>\n",
       "      <td>3</td>\n",
       "      <td>1</td>\n",
       "      <td>6</td>\n",
       "      <td>1</td>\n",
       "      <td>Y</td>\n",
       "      <td>1</td>\n",
       "      <td>1</td>\n",
       "      <td>0</td>\n",
       "      <td>0</td>\n",
       "    </tr>\n",
       "    <tr>\n",
       "      <th>3</th>\n",
       "      <td>RL</td>\n",
       "      <td>60.0</td>\n",
       "      <td>9550</td>\n",
       "      <td>1915</td>\n",
       "      <td>Pave</td>\n",
       "      <td>AllPub</td>\n",
       "      <td>7</td>\n",
       "      <td>5</td>\n",
       "      <td>TA</td>\n",
       "      <td>TA</td>\n",
       "      <td>...</td>\n",
       "      <td>1717</td>\n",
       "      <td>3</td>\n",
       "      <td>1</td>\n",
       "      <td>7</td>\n",
       "      <td>1</td>\n",
       "      <td>Y</td>\n",
       "      <td>1</td>\n",
       "      <td>1</td>\n",
       "      <td>0</td>\n",
       "      <td>0</td>\n",
       "    </tr>\n",
       "    <tr>\n",
       "      <th>4</th>\n",
       "      <td>RL</td>\n",
       "      <td>84.0</td>\n",
       "      <td>14260</td>\n",
       "      <td>2000</td>\n",
       "      <td>Pave</td>\n",
       "      <td>AllPub</td>\n",
       "      <td>8</td>\n",
       "      <td>5</td>\n",
       "      <td>Gd</td>\n",
       "      <td>TA</td>\n",
       "      <td>...</td>\n",
       "      <td>2198</td>\n",
       "      <td>4</td>\n",
       "      <td>1</td>\n",
       "      <td>9</td>\n",
       "      <td>1</td>\n",
       "      <td>Y</td>\n",
       "      <td>1</td>\n",
       "      <td>1</td>\n",
       "      <td>0</td>\n",
       "      <td>0</td>\n",
       "    </tr>\n",
       "  </tbody>\n",
       "</table>\n",
       "<p>5 rows × 28 columns</p>\n",
       "</div>"
      ],
      "text/plain": [
       "  MSZoning  LotFrontage  LotArea  YearBuilt Street Utilities  OverallQual  \\\n",
       "0       RL         65.0     8450       2003   Pave    AllPub            7   \n",
       "1       RL         80.0     9600       1976   Pave    AllPub            6   \n",
       "2       RL         68.0    11250       2001   Pave    AllPub            7   \n",
       "3       RL         60.0     9550       1915   Pave    AllPub            7   \n",
       "4       RL         84.0    14260       2000   Pave    AllPub            8   \n",
       "\n",
       "   OverallCond ExterQual ExterCond  ... GrLivArea BedroomAbvGr  KitchenAbvGr  \\\n",
       "0            5        Gd        TA  ...      1710            3             1   \n",
       "1            8        TA        TA  ...      1262            3             1   \n",
       "2            5        Gd        TA  ...      1786            3             1   \n",
       "3            5        TA        TA  ...      1717            3             1   \n",
       "4            5        Gd        TA  ...      2198            4             1   \n",
       "\n",
       "  TotRmsAbvGrd Fireplaces PavedDrive  Basement  garage  pool  fence  \n",
       "0            8          0          Y         1       1     0      0  \n",
       "1            6          1          Y         1       1     0      0  \n",
       "2            6          1          Y         1       1     0      0  \n",
       "3            7          1          Y         1       1     0      0  \n",
       "4            9          1          Y         1       1     0      0  \n",
       "\n",
       "[5 rows x 28 columns]"
      ]
     },
     "execution_count": 39,
     "metadata": {},
     "output_type": "execute_result"
    }
   ],
   "source": [
    "X.head()"
   ]
  },
  {
   "cell_type": "code",
   "execution_count": 40,
   "metadata": {
    "execution": {
     "iopub.execute_input": "2020-09-05T09:37:09.513950Z",
     "iopub.status.busy": "2020-09-05T09:37:09.512996Z",
     "iopub.status.idle": "2020-09-05T09:37:09.517896Z",
     "shell.execute_reply": "2020-09-05T09:37:09.517167Z"
    },
    "papermill": {
     "duration": 0.031586,
     "end_time": "2020-09-05T09:37:09.518019",
     "exception": false,
     "start_time": "2020-09-05T09:37:09.486433",
     "status": "completed"
    },
    "tags": []
   },
   "outputs": [
    {
     "data": {
      "text/plain": [
       "0    208500\n",
       "1    181500\n",
       "2    223500\n",
       "3    140000\n",
       "4    250000\n",
       "Name: SalePrice, dtype: int64"
      ]
     },
     "execution_count": 40,
     "metadata": {},
     "output_type": "execute_result"
    }
   ],
   "source": [
    "y.head()"
   ]
  },
  {
   "cell_type": "code",
   "execution_count": 41,
   "metadata": {
    "execution": {
     "iopub.execute_input": "2020-09-05T09:37:09.567207Z",
     "iopub.status.busy": "2020-09-05T09:37:09.566493Z",
     "iopub.status.idle": "2020-09-05T09:37:09.570169Z",
     "shell.execute_reply": "2020-09-05T09:37:09.569455Z"
    },
    "papermill": {
     "duration": 0.031455,
     "end_time": "2020-09-05T09:37:09.570285",
     "exception": false,
     "start_time": "2020-09-05T09:37:09.538830",
     "status": "completed"
    },
    "tags": []
   },
   "outputs": [],
   "source": [
    "# creates a list of columns with categorical data\n",
    "s = (X.dtypes == 'object')\n",
    "categorical_cols = list(s[s].index)"
   ]
  },
  {
   "cell_type": "code",
   "execution_count": 42,
   "metadata": {
    "execution": {
     "iopub.execute_input": "2020-09-05T09:37:09.619192Z",
     "iopub.status.busy": "2020-09-05T09:37:09.618123Z",
     "iopub.status.idle": "2020-09-05T09:37:09.622771Z",
     "shell.execute_reply": "2020-09-05T09:37:09.622011Z"
    },
    "papermill": {
     "duration": 0.030855,
     "end_time": "2020-09-05T09:37:09.622893",
     "exception": false,
     "start_time": "2020-09-05T09:37:09.592038",
     "status": "completed"
    },
    "tags": []
   },
   "outputs": [
    {
     "data": {
      "text/plain": [
       "['MSZoning',\n",
       " 'Street',\n",
       " 'Utilities',\n",
       " 'ExterQual',\n",
       " 'ExterCond',\n",
       " 'Foundation',\n",
       " 'Heating',\n",
       " 'HeatingQC',\n",
       " 'CentralAir',\n",
       " 'Electrical',\n",
       " 'PavedDrive']"
      ]
     },
     "execution_count": 42,
     "metadata": {},
     "output_type": "execute_result"
    }
   ],
   "source": [
    "categorical_cols"
   ]
  },
  {
   "cell_type": "markdown",
   "execution_count": null,
   "metadata": {
    "papermill": {
     "duration": 0.020832,
     "end_time": "2020-09-05T09:37:09.665634",
     "exception": false,
     "start_time": "2020-09-05T09:37:09.644802",
     "status": "completed"
    },
    "tags": []
   },
   "source": [
    "# Converting Categorical values to Numerical Values"
   ]
  },
  {
   "cell_type": "code",
   "execution_count": 43,
   "metadata": {
    "execution": {
     "iopub.execute_input": "2020-09-05T09:37:09.727045Z",
     "iopub.status.busy": "2020-09-05T09:37:09.726001Z",
     "iopub.status.idle": "2020-09-05T09:37:09.729743Z",
     "shell.execute_reply": "2020-09-05T09:37:09.730629Z"
    },
    "papermill": {
     "duration": 0.043808,
     "end_time": "2020-09-05T09:37:09.730829",
     "exception": false,
     "start_time": "2020-09-05T09:37:09.687021",
     "status": "completed"
    },
    "tags": []
   },
   "outputs": [
    {
     "name": "stderr",
     "output_type": "stream",
     "text": [
      "/opt/conda/lib/python3.7/site-packages/ipykernel_launcher.py:3: SettingWithCopyWarning: \n",
      "A value is trying to be set on a copy of a slice from a DataFrame.\n",
      "Try using .loc[row_indexer,col_indexer] = value instead\n",
      "\n",
      "See the caveats in the documentation: https://pandas.pydata.org/pandas-docs/stable/user_guide/indexing.html#returning-a-view-versus-a-copy\n",
      "  This is separate from the ipykernel package so we can avoid doing imports until\n"
     ]
    }
   ],
   "source": [
    "Encoder_x=LabelEncoder()\n",
    "for col in categorical_cols:\n",
    "    X[col]=Encoder_x.fit_transform(X[col])"
   ]
  },
  {
   "cell_type": "code",
   "execution_count": 44,
   "metadata": {
    "execution": {
     "iopub.execute_input": "2020-09-05T09:37:09.801790Z",
     "iopub.status.busy": "2020-09-05T09:37:09.783040Z",
     "iopub.status.idle": "2020-09-05T09:37:09.807305Z",
     "shell.execute_reply": "2020-09-05T09:37:09.806605Z"
    },
    "papermill": {
     "duration": 0.053619,
     "end_time": "2020-09-05T09:37:09.807467",
     "exception": false,
     "start_time": "2020-09-05T09:37:09.753848",
     "status": "completed"
    },
    "tags": []
   },
   "outputs": [
    {
     "data": {
      "text/html": [
       "<div>\n",
       "<style scoped>\n",
       "    .dataframe tbody tr th:only-of-type {\n",
       "        vertical-align: middle;\n",
       "    }\n",
       "\n",
       "    .dataframe tbody tr th {\n",
       "        vertical-align: top;\n",
       "    }\n",
       "\n",
       "    .dataframe thead th {\n",
       "        text-align: right;\n",
       "    }\n",
       "</style>\n",
       "<table border=\"1\" class=\"dataframe\">\n",
       "  <thead>\n",
       "    <tr style=\"text-align: right;\">\n",
       "      <th></th>\n",
       "      <th>MSZoning</th>\n",
       "      <th>LotFrontage</th>\n",
       "      <th>LotArea</th>\n",
       "      <th>YearBuilt</th>\n",
       "      <th>Street</th>\n",
       "      <th>Utilities</th>\n",
       "      <th>OverallQual</th>\n",
       "      <th>OverallCond</th>\n",
       "      <th>ExterQual</th>\n",
       "      <th>ExterCond</th>\n",
       "      <th>...</th>\n",
       "      <th>GrLivArea</th>\n",
       "      <th>BedroomAbvGr</th>\n",
       "      <th>KitchenAbvGr</th>\n",
       "      <th>TotRmsAbvGrd</th>\n",
       "      <th>Fireplaces</th>\n",
       "      <th>PavedDrive</th>\n",
       "      <th>Basement</th>\n",
       "      <th>garage</th>\n",
       "      <th>pool</th>\n",
       "      <th>fence</th>\n",
       "    </tr>\n",
       "  </thead>\n",
       "  <tbody>\n",
       "    <tr>\n",
       "      <th>0</th>\n",
       "      <td>3</td>\n",
       "      <td>65.0</td>\n",
       "      <td>8450</td>\n",
       "      <td>2003</td>\n",
       "      <td>1</td>\n",
       "      <td>0</td>\n",
       "      <td>7</td>\n",
       "      <td>5</td>\n",
       "      <td>2</td>\n",
       "      <td>4</td>\n",
       "      <td>...</td>\n",
       "      <td>1710</td>\n",
       "      <td>3</td>\n",
       "      <td>1</td>\n",
       "      <td>8</td>\n",
       "      <td>0</td>\n",
       "      <td>2</td>\n",
       "      <td>1</td>\n",
       "      <td>1</td>\n",
       "      <td>0</td>\n",
       "      <td>0</td>\n",
       "    </tr>\n",
       "    <tr>\n",
       "      <th>1</th>\n",
       "      <td>3</td>\n",
       "      <td>80.0</td>\n",
       "      <td>9600</td>\n",
       "      <td>1976</td>\n",
       "      <td>1</td>\n",
       "      <td>0</td>\n",
       "      <td>6</td>\n",
       "      <td>8</td>\n",
       "      <td>3</td>\n",
       "      <td>4</td>\n",
       "      <td>...</td>\n",
       "      <td>1262</td>\n",
       "      <td>3</td>\n",
       "      <td>1</td>\n",
       "      <td>6</td>\n",
       "      <td>1</td>\n",
       "      <td>2</td>\n",
       "      <td>1</td>\n",
       "      <td>1</td>\n",
       "      <td>0</td>\n",
       "      <td>0</td>\n",
       "    </tr>\n",
       "    <tr>\n",
       "      <th>2</th>\n",
       "      <td>3</td>\n",
       "      <td>68.0</td>\n",
       "      <td>11250</td>\n",
       "      <td>2001</td>\n",
       "      <td>1</td>\n",
       "      <td>0</td>\n",
       "      <td>7</td>\n",
       "      <td>5</td>\n",
       "      <td>2</td>\n",
       "      <td>4</td>\n",
       "      <td>...</td>\n",
       "      <td>1786</td>\n",
       "      <td>3</td>\n",
       "      <td>1</td>\n",
       "      <td>6</td>\n",
       "      <td>1</td>\n",
       "      <td>2</td>\n",
       "      <td>1</td>\n",
       "      <td>1</td>\n",
       "      <td>0</td>\n",
       "      <td>0</td>\n",
       "    </tr>\n",
       "    <tr>\n",
       "      <th>3</th>\n",
       "      <td>3</td>\n",
       "      <td>60.0</td>\n",
       "      <td>9550</td>\n",
       "      <td>1915</td>\n",
       "      <td>1</td>\n",
       "      <td>0</td>\n",
       "      <td>7</td>\n",
       "      <td>5</td>\n",
       "      <td>3</td>\n",
       "      <td>4</td>\n",
       "      <td>...</td>\n",
       "      <td>1717</td>\n",
       "      <td>3</td>\n",
       "      <td>1</td>\n",
       "      <td>7</td>\n",
       "      <td>1</td>\n",
       "      <td>2</td>\n",
       "      <td>1</td>\n",
       "      <td>1</td>\n",
       "      <td>0</td>\n",
       "      <td>0</td>\n",
       "    </tr>\n",
       "    <tr>\n",
       "      <th>4</th>\n",
       "      <td>3</td>\n",
       "      <td>84.0</td>\n",
       "      <td>14260</td>\n",
       "      <td>2000</td>\n",
       "      <td>1</td>\n",
       "      <td>0</td>\n",
       "      <td>8</td>\n",
       "      <td>5</td>\n",
       "      <td>2</td>\n",
       "      <td>4</td>\n",
       "      <td>...</td>\n",
       "      <td>2198</td>\n",
       "      <td>4</td>\n",
       "      <td>1</td>\n",
       "      <td>9</td>\n",
       "      <td>1</td>\n",
       "      <td>2</td>\n",
       "      <td>1</td>\n",
       "      <td>1</td>\n",
       "      <td>0</td>\n",
       "      <td>0</td>\n",
       "    </tr>\n",
       "  </tbody>\n",
       "</table>\n",
       "<p>5 rows × 28 columns</p>\n",
       "</div>"
      ],
      "text/plain": [
       "   MSZoning  LotFrontage  LotArea  YearBuilt  Street  Utilities  OverallQual  \\\n",
       "0         3         65.0     8450       2003       1          0            7   \n",
       "1         3         80.0     9600       1976       1          0            6   \n",
       "2         3         68.0    11250       2001       1          0            7   \n",
       "3         3         60.0     9550       1915       1          0            7   \n",
       "4         3         84.0    14260       2000       1          0            8   \n",
       "\n",
       "   OverallCond  ExterQual  ExterCond  ...  GrLivArea  BedroomAbvGr  \\\n",
       "0            5          2          4  ...       1710             3   \n",
       "1            8          3          4  ...       1262             3   \n",
       "2            5          2          4  ...       1786             3   \n",
       "3            5          3          4  ...       1717             3   \n",
       "4            5          2          4  ...       2198             4   \n",
       "\n",
       "   KitchenAbvGr  TotRmsAbvGrd  Fireplaces  PavedDrive  Basement  garage  pool  \\\n",
       "0             1             8           0           2         1       1     0   \n",
       "1             1             6           1           2         1       1     0   \n",
       "2             1             6           1           2         1       1     0   \n",
       "3             1             7           1           2         1       1     0   \n",
       "4             1             9           1           2         1       1     0   \n",
       "\n",
       "   fence  \n",
       "0      0  \n",
       "1      0  \n",
       "2      0  \n",
       "3      0  \n",
       "4      0  \n",
       "\n",
       "[5 rows x 28 columns]"
      ]
     },
     "execution_count": 44,
     "metadata": {},
     "output_type": "execute_result"
    }
   ],
   "source": [
    "X.head()"
   ]
  },
  {
   "cell_type": "markdown",
   "execution_count": null,
   "metadata": {
    "papermill": {
     "duration": 0.021662,
     "end_time": "2020-09-05T09:37:09.851529",
     "exception": false,
     "start_time": "2020-09-05T09:37:09.829867",
     "status": "completed"
    },
    "tags": []
   },
   "source": [
    "# Building the model for training and evaluation"
   ]
  },
  {
   "cell_type": "code",
   "execution_count": 45,
   "metadata": {
    "execution": {
     "iopub.execute_input": "2020-09-05T09:37:09.903959Z",
     "iopub.status.busy": "2020-09-05T09:37:09.902964Z",
     "iopub.status.idle": "2020-09-05T09:37:09.908280Z",
     "shell.execute_reply": "2020-09-05T09:37:09.907536Z"
    },
    "papermill": {
     "duration": 0.034882,
     "end_time": "2020-09-05T09:37:09.908444",
     "exception": false,
     "start_time": "2020-09-05T09:37:09.873562",
     "status": "completed"
    },
    "tags": []
   },
   "outputs": [],
   "source": [
    "train_x,val_x,train_y,val_y=train_test_split(X,y,train_size=0.8,test_size=0.2)"
   ]
  },
  {
   "cell_type": "code",
   "execution_count": 46,
   "metadata": {
    "execution": {
     "iopub.execute_input": "2020-09-05T09:37:09.961920Z",
     "iopub.status.busy": "2020-09-05T09:37:09.961015Z",
     "iopub.status.idle": "2020-09-05T09:37:09.964692Z",
     "shell.execute_reply": "2020-09-05T09:37:09.963901Z"
    },
    "papermill": {
     "duration": 0.033873,
     "end_time": "2020-09-05T09:37:09.964820",
     "exception": false,
     "start_time": "2020-09-05T09:37:09.930947",
     "status": "completed"
    },
    "tags": []
   },
   "outputs": [],
   "source": [
    "test2=test[features]"
   ]
  },
  {
   "cell_type": "code",
   "execution_count": 47,
   "metadata": {
    "execution": {
     "iopub.execute_input": "2020-09-05T09:37:10.032553Z",
     "iopub.status.busy": "2020-09-05T09:37:10.031556Z",
     "iopub.status.idle": "2020-09-05T09:37:10.035092Z",
     "shell.execute_reply": "2020-09-05T09:37:10.036047Z"
    },
    "papermill": {
     "duration": 0.049143,
     "end_time": "2020-09-05T09:37:10.036275",
     "exception": false,
     "start_time": "2020-09-05T09:37:09.987132",
     "status": "completed"
    },
    "tags": []
   },
   "outputs": [
    {
     "name": "stderr",
     "output_type": "stream",
     "text": [
      "/opt/conda/lib/python3.7/site-packages/ipykernel_launcher.py:3: SettingWithCopyWarning: \n",
      "A value is trying to be set on a copy of a slice from a DataFrame.\n",
      "Try using .loc[row_indexer,col_indexer] = value instead\n",
      "\n",
      "See the caveats in the documentation: https://pandas.pydata.org/pandas-docs/stable/user_guide/indexing.html#returning-a-view-versus-a-copy\n",
      "  This is separate from the ipykernel package so we can avoid doing imports until\n"
     ]
    }
   ],
   "source": [
    "Encoder=LabelEncoder()\n",
    "for col in categorical_cols:\n",
    "    test2[col]=Encoder.fit_transform(test2[col])"
   ]
  },
  {
   "cell_type": "markdown",
   "execution_count": null,
   "metadata": {
    "papermill": {
     "duration": 0.021839,
     "end_time": "2020-09-05T09:37:10.081613",
     "exception": false,
     "start_time": "2020-09-05T09:37:10.059774",
     "status": "completed"
    },
    "tags": []
   },
   "source": [
    "# Random Forest Regreesor"
   ]
  },
  {
   "cell_type": "code",
   "execution_count": 48,
   "metadata": {
    "execution": {
     "iopub.execute_input": "2020-09-05T09:37:10.135734Z",
     "iopub.status.busy": "2020-09-05T09:37:10.134953Z",
     "iopub.status.idle": "2020-09-05T09:37:11.070356Z",
     "shell.execute_reply": "2020-09-05T09:37:11.069315Z"
    },
    "papermill": {
     "duration": 0.965522,
     "end_time": "2020-09-05T09:37:11.070537",
     "exception": false,
     "start_time": "2020-09-05T09:37:10.105015",
     "status": "completed"
    },
    "tags": []
   },
   "outputs": [],
   "source": [
    "model=RandomForestRegressor()\n",
    "model.fit(train_x,train_y)\n",
    "pred=model.predict(val_x)"
   ]
  },
  {
   "cell_type": "code",
   "execution_count": 49,
   "metadata": {
    "execution": {
     "iopub.execute_input": "2020-09-05T09:37:11.126008Z",
     "iopub.status.busy": "2020-09-05T09:37:11.122668Z",
     "iopub.status.idle": "2020-09-05T09:37:11.148192Z",
     "shell.execute_reply": "2020-09-05T09:37:11.147414Z"
    },
    "papermill": {
     "duration": 0.054876,
     "end_time": "2020-09-05T09:37:11.148317",
     "exception": false,
     "start_time": "2020-09-05T09:37:11.093441",
     "status": "completed"
    },
    "tags": []
   },
   "outputs": [
    {
     "name": "stdout",
     "output_type": "stream",
     "text": [
      "Mean absolute error: 18006.543938356164\n",
      "Model score 0.8796866782713438\n"
     ]
    }
   ],
   "source": [
    "print(\"Mean absolute error:\",mean_absolute_error(pred,val_y))\n",
    "print(\"Model score\",model.score(val_x,val_y))"
   ]
  },
  {
   "cell_type": "code",
   "execution_count": 50,
   "metadata": {
    "execution": {
     "iopub.execute_input": "2020-09-05T09:37:11.203643Z",
     "iopub.status.busy": "2020-09-05T09:37:11.202854Z",
     "iopub.status.idle": "2020-09-05T09:37:12.319748Z",
     "shell.execute_reply": "2020-09-05T09:37:12.318959Z"
    },
    "papermill": {
     "duration": 1.148899,
     "end_time": "2020-09-05T09:37:12.319874",
     "exception": false,
     "start_time": "2020-09-05T09:37:11.170975",
     "status": "completed"
    },
    "tags": []
   },
   "outputs": [],
   "source": [
    "model=RandomForestRegressor()\n",
    "model.fit(X,y)\n",
    "pred=model.predict(test2)"
   ]
  },
  {
   "cell_type": "code",
   "execution_count": 51,
   "metadata": {
    "execution": {
     "iopub.execute_input": "2020-09-05T09:37:12.373212Z",
     "iopub.status.busy": "2020-09-05T09:37:12.372507Z",
     "iopub.status.idle": "2020-09-05T09:37:12.742322Z",
     "shell.execute_reply": "2020-09-05T09:37:12.741271Z"
    },
    "papermill": {
     "duration": 0.400357,
     "end_time": "2020-09-05T09:37:12.742510",
     "exception": false,
     "start_time": "2020-09-05T09:37:12.342153",
     "status": "completed"
    },
    "tags": []
   },
   "outputs": [],
   "source": [
    "output=pd.DataFrame({'Id':test.Id,'SalePrice':pred})\n",
    "output.to_csv('submission_rf.csv',index=False)"
   ]
  },
  {
   "cell_type": "code",
   "execution_count": 52,
   "metadata": {
    "execution": {
     "iopub.execute_input": "2020-09-05T09:37:12.820312Z",
     "iopub.status.busy": "2020-09-05T09:37:12.819260Z",
     "iopub.status.idle": "2020-09-05T09:37:12.824024Z",
     "shell.execute_reply": "2020-09-05T09:37:12.823085Z"
    },
    "papermill": {
     "duration": 0.051943,
     "end_time": "2020-09-05T09:37:12.824190",
     "exception": false,
     "start_time": "2020-09-05T09:37:12.772247",
     "status": "completed"
    },
    "tags": []
   },
   "outputs": [
    {
     "data": {
      "text/html": [
       "<div>\n",
       "<style scoped>\n",
       "    .dataframe tbody tr th:only-of-type {\n",
       "        vertical-align: middle;\n",
       "    }\n",
       "\n",
       "    .dataframe tbody tr th {\n",
       "        vertical-align: top;\n",
       "    }\n",
       "\n",
       "    .dataframe thead th {\n",
       "        text-align: right;\n",
       "    }\n",
       "</style>\n",
       "<table border=\"1\" class=\"dataframe\">\n",
       "  <thead>\n",
       "    <tr style=\"text-align: right;\">\n",
       "      <th></th>\n",
       "      <th>Id</th>\n",
       "      <th>SalePrice</th>\n",
       "    </tr>\n",
       "  </thead>\n",
       "  <tbody>\n",
       "    <tr>\n",
       "      <th>0</th>\n",
       "      <td>1461</td>\n",
       "      <td>125391.00</td>\n",
       "    </tr>\n",
       "    <tr>\n",
       "      <th>1</th>\n",
       "      <td>1462</td>\n",
       "      <td>148883.00</td>\n",
       "    </tr>\n",
       "    <tr>\n",
       "      <th>2</th>\n",
       "      <td>1463</td>\n",
       "      <td>178224.59</td>\n",
       "    </tr>\n",
       "    <tr>\n",
       "      <th>3</th>\n",
       "      <td>1464</td>\n",
       "      <td>177838.90</td>\n",
       "    </tr>\n",
       "    <tr>\n",
       "      <th>4</th>\n",
       "      <td>1465</td>\n",
       "      <td>197211.12</td>\n",
       "    </tr>\n",
       "  </tbody>\n",
       "</table>\n",
       "</div>"
      ],
      "text/plain": [
       "     Id  SalePrice\n",
       "0  1461  125391.00\n",
       "1  1462  148883.00\n",
       "2  1463  178224.59\n",
       "3  1464  177838.90\n",
       "4  1465  197211.12"
      ]
     },
     "execution_count": 52,
     "metadata": {},
     "output_type": "execute_result"
    }
   ],
   "source": [
    "output.head()"
   ]
  },
  {
   "cell_type": "markdown",
   "execution_count": null,
   "metadata": {
    "papermill": {
     "duration": 0.029772,
     "end_time": "2020-09-05T09:37:12.884640",
     "exception": false,
     "start_time": "2020-09-05T09:37:12.854868",
     "status": "completed"
    },
    "tags": []
   },
   "source": [
    "# XGB Regressor"
   ]
  },
  {
   "cell_type": "code",
   "execution_count": 53,
   "metadata": {
    "execution": {
     "iopub.execute_input": "2020-09-05T09:37:12.947318Z",
     "iopub.status.busy": "2020-09-05T09:37:12.946314Z",
     "iopub.status.idle": "2020-09-05T09:37:13.481719Z",
     "shell.execute_reply": "2020-09-05T09:37:13.483049Z"
    },
    "papermill": {
     "duration": 0.569106,
     "end_time": "2020-09-05T09:37:13.483265",
     "exception": false,
     "start_time": "2020-09-05T09:37:12.914159",
     "status": "completed"
    },
    "tags": []
   },
   "outputs": [
    {
     "name": "stdout",
     "output_type": "stream",
     "text": [
      "Mean absolute error 18053.44290453767\n",
      "Root mean square error 27978.69722656122\n"
     ]
    }
   ],
   "source": [
    "model=XGBRegressor(n_estimators=500,learning_rate=0.05)\n",
    "model.fit(train_x,train_y,early_stopping_rounds=5,eval_set=[(val_x,val_y)],verbose=False)\n",
    "pred=model.predict(val_x)\n",
    "print(\"Mean absolute error\",mean_absolute_error(pred,val_y))\n",
    "print(\"Root mean square error\",mean_squared_error(pred,val_y,squared=False))"
   ]
  },
  {
   "cell_type": "code",
   "execution_count": 54,
   "metadata": {
    "execution": {
     "iopub.execute_input": "2020-09-05T09:37:13.556664Z",
     "iopub.status.busy": "2020-09-05T09:37:13.555700Z",
     "iopub.status.idle": "2020-09-05T09:37:15.771801Z",
     "shell.execute_reply": "2020-09-05T09:37:15.772836Z"
    },
    "papermill": {
     "duration": 2.258625,
     "end_time": "2020-09-05T09:37:15.773019",
     "exception": false,
     "start_time": "2020-09-05T09:37:13.514394",
     "status": "completed"
    },
    "tags": []
   },
   "outputs": [],
   "source": [
    "model.fit(X,y,early_stopping_rounds=5,eval_set=[(val_x,val_y)],verbose=False)\n",
    "pred=model.predict(test2)"
   ]
  },
  {
   "cell_type": "code",
   "execution_count": 55,
   "metadata": {
    "execution": {
     "iopub.execute_input": "2020-09-05T09:37:15.838824Z",
     "iopub.status.busy": "2020-09-05T09:37:15.837800Z",
     "iopub.status.idle": "2020-09-05T09:37:15.843849Z",
     "shell.execute_reply": "2020-09-05T09:37:15.844672Z"
    },
    "papermill": {
     "duration": 0.044959,
     "end_time": "2020-09-05T09:37:15.844849",
     "exception": false,
     "start_time": "2020-09-05T09:37:15.799890",
     "status": "completed"
    },
    "tags": []
   },
   "outputs": [],
   "source": [
    "output=pd.DataFrame({'Id':test.Id,'SalePrice':pred})\n",
    "output.to_csv('submission_xgb.csv',index=False)"
   ]
  },
  {
   "cell_type": "code",
   "execution_count": 56,
   "metadata": {
    "execution": {
     "iopub.execute_input": "2020-09-05T09:37:15.905687Z",
     "iopub.status.busy": "2020-09-05T09:37:15.904617Z",
     "iopub.status.idle": "2020-09-05T09:37:15.913261Z",
     "shell.execute_reply": "2020-09-05T09:37:15.914065Z"
    },
    "papermill": {
     "duration": 0.042287,
     "end_time": "2020-09-05T09:37:15.914232",
     "exception": false,
     "start_time": "2020-09-05T09:37:15.871945",
     "status": "completed"
    },
    "tags": []
   },
   "outputs": [
    {
     "data": {
      "text/html": [
       "<div>\n",
       "<style scoped>\n",
       "    .dataframe tbody tr th:only-of-type {\n",
       "        vertical-align: middle;\n",
       "    }\n",
       "\n",
       "    .dataframe tbody tr th {\n",
       "        vertical-align: top;\n",
       "    }\n",
       "\n",
       "    .dataframe thead th {\n",
       "        text-align: right;\n",
       "    }\n",
       "</style>\n",
       "<table border=\"1\" class=\"dataframe\">\n",
       "  <thead>\n",
       "    <tr style=\"text-align: right;\">\n",
       "      <th></th>\n",
       "      <th>Id</th>\n",
       "      <th>SalePrice</th>\n",
       "    </tr>\n",
       "  </thead>\n",
       "  <tbody>\n",
       "    <tr>\n",
       "      <th>0</th>\n",
       "      <td>1461</td>\n",
       "      <td>129556.054688</td>\n",
       "    </tr>\n",
       "    <tr>\n",
       "      <th>1</th>\n",
       "      <td>1462</td>\n",
       "      <td>150097.296875</td>\n",
       "    </tr>\n",
       "    <tr>\n",
       "      <th>2</th>\n",
       "      <td>1463</td>\n",
       "      <td>175792.640625</td>\n",
       "    </tr>\n",
       "    <tr>\n",
       "      <th>3</th>\n",
       "      <td>1464</td>\n",
       "      <td>199926.062500</td>\n",
       "    </tr>\n",
       "    <tr>\n",
       "      <th>4</th>\n",
       "      <td>1465</td>\n",
       "      <td>190243.453125</td>\n",
       "    </tr>\n",
       "  </tbody>\n",
       "</table>\n",
       "</div>"
      ],
      "text/plain": [
       "     Id      SalePrice\n",
       "0  1461  129556.054688\n",
       "1  1462  150097.296875\n",
       "2  1463  175792.640625\n",
       "3  1464  199926.062500\n",
       "4  1465  190243.453125"
      ]
     },
     "execution_count": 56,
     "metadata": {},
     "output_type": "execute_result"
    }
   ],
   "source": [
    "output.head()"
   ]
  }
 ],
 "metadata": {
  "kernelspec": {
   "display_name": "Python 3",
   "language": "python",
   "name": "python3"
  },
  "language_info": {
   "codemirror_mode": {
    "name": "ipython",
    "version": 3
   },
   "file_extension": ".py",
   "mimetype": "text/x-python",
   "name": "python",
   "nbconvert_exporter": "python",
   "pygments_lexer": "ipython3",
   "version": "3.7.6"
  },
  "papermill": {
   "duration": 16.86261,
   "end_time": "2020-09-05T09:37:16.050408",
   "environment_variables": {},
   "exception": null,
   "input_path": "__notebook__.ipynb",
   "output_path": "__notebook__.ipynb",
   "parameters": {},
   "start_time": "2020-09-05T09:36:59.187798",
   "version": "2.1.0"
  }
 },
 "nbformat": 4,
 "nbformat_minor": 4
}
